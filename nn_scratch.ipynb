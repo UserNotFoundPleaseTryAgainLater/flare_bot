{
 "cells": [
  {
   "cell_type": "markdown",
   "id": "9b31dfd1",
   "metadata": {},
   "source": [
    "credit to https://www.freecodecamp.org/news/building-a-neural-network-from-scratch/\n",
    "for the code"
   ]
  },
  {
   "cell_type": "code",
   "execution_count": 10,
   "id": "5149ea3f",
   "metadata": {},
   "outputs": [],
   "source": [
    "import numpy as np\n",
    "import matplotlib.pyplot as plt"
   ]
  },
  {
   "cell_type": "code",
   "execution_count": 11,
   "id": "0bc25feb",
   "metadata": {},
   "outputs": [],
   "source": [
    "def init_params(layer_dims):\n",
    "    np.random.seed(3)\n",
    "    params = {}\n",
    "    L = len(layer_dims)\n",
    "\n",
    "    for l in range(1, L):\n",
    "        params[\"W\" + str(l)] = np.random.randn(layer_dims[1], layer_dims[l - 1]) * 0.01\n",
    "        params[\"b\" + str(l)] = np.zeroes(layer_dims[1], 1)"
   ]
  },
  {
   "cell_type": "code",
   "execution_count": 12,
   "id": "d7cd6c91",
   "metadata": {},
   "outputs": [],
   "source": [
    "# Z = w*X + b\n",
    "# W = weights, b = bias, x = input\n",
    "\n",
    "\n",
    "def sigmoid(Z):\n",
    "    A = 1 / (1 + np.exp(np.dot(-1, Z)))\n",
    "    cache = Z\n",
    "    return A, cache"
   ]
  },
  {
   "cell_type": "code",
   "execution_count": 13,
   "id": "d5225a97",
   "metadata": {},
   "outputs": [],
   "source": [
    "def forward_prop(X, params):\n",
    "    A = X  # input to first layer i.e. training data\n",
    "    caches = []\n",
    "    L = len(params) / 2\n",
    "    for l in range(1, L + 1):\n",
    "        A_prev = A\n",
    "        # Linear hypothesis\n",
    "        Z = np.dot(params[\"W\" + str(l)], A_prev) + params[\"b\" + str(l)]\n",
    "        # Storing linear cache\n",
    "        linear_cache = (A_prev, params[\"W\" + str(l)], params[\"b\" + str(l)])\n",
    "        # Applying sigmoid on linear hypothesis\n",
    "        A, activation_cache = sigmoid(Z)\n",
    "\n",
    "        # Storing both linear and activation cache / previous\n",
    "        # and current cache\n",
    "\n",
    "        caches.append((linear_cache, activation_cache))\n",
    "    return A, caches"
   ]
  }
 ],
 "metadata": {
  "kernelspec": {
   "display_name": ".venv",
   "language": "python",
   "name": "python3"
  },
  "language_info": {
   "codemirror_mode": {
    "name": "ipython",
    "version": 3
   },
   "file_extension": ".py",
   "mimetype": "text/x-python",
   "name": "python",
   "nbconvert_exporter": "python",
   "pygments_lexer": "ipython3",
   "version": "3.12.6"
  }
 },
 "nbformat": 4,
 "nbformat_minor": 5
}
