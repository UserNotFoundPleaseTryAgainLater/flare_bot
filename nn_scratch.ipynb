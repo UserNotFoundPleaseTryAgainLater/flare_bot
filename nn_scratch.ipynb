{
 "cells": [
  {
   "cell_type": "markdown",
   "id": "9b31dfd1",
   "metadata": {},
   "source": [
    "credit to https://www.freecodecamp.org/news/building-a-neural-network-from-scratch/\n",
    "for the code"
   ]
  },
  {
   "cell_type": "markdown",
   "id": "e3c7132a",
   "metadata": {},
   "source": [
    "note: this isn't the final NNUE for the engine, just an example to help me learn this."
   ]
  },
  {
   "cell_type": "code",
   "execution_count": 33,
   "id": "5149ea3f",
   "metadata": {},
   "outputs": [],
   "source": [
    "import numpy as np\n",
    "import matplotlib.pyplot as plt"
   ]
  },
  {
   "cell_type": "code",
   "execution_count": 34,
   "id": "0bc25feb",
   "metadata": {},
   "outputs": [],
   "source": [
    "def init_params(layer_dims):\n",
    "    np.random.seed(3)\n",
    "    params = {}\n",
    "    L = len(layer_dims)\n",
    "\n",
    "    for l in range(1, L):\n",
    "        params[\"W\" + str(l)] = np.random.randn(layer_dims[1], layer_dims[l - 1]) * 0.01\n",
    "        params[\"b\" + str(l)] = np.zeroes(layer_dims[1], 1)"
   ]
  },
  {
   "cell_type": "code",
   "execution_count": 35,
   "id": "d7cd6c91",
   "metadata": {},
   "outputs": [],
   "source": [
    "# Z = w*X + b\n",
    "# W = weights, b = bias, x = input\n",
    "\n",
    "\n",
    "def sigmoid(Z):\n",
    "    A = 1 / (1 + np.exp(np.dot(-1, Z)))\n",
    "    cache = Z\n",
    "    return A, cache  # basically (new value, old value)"
   ]
  },
  {
   "cell_type": "code",
   "execution_count": 36,
   "id": "d5225a97",
   "metadata": {},
   "outputs": [],
   "source": [
    "def forward_prop(X, params):  # current layer of values plus params to modify it\n",
    "    A = X  # input to first layer i.e. training data\n",
    "    caches = []\n",
    "    L = len(params) / 2\n",
    "    for l in range(1, L + 1):\n",
    "        A_prev = A\n",
    "        # Linear hypothesis\n",
    "        Z = np.dot(params[\"W\" + str(l)], A_prev) + params[\"b\" + str(l)]\n",
    "        # Storing linear cache\n",
    "        linear_cache = (A_prev, params[\"W\" + str(l)], params[\"b\" + str(l)])\n",
    "        # Applying sigmoid on linear hypothesis\n",
    "        A, activation_cache = sigmoid(Z)\n",
    "\n",
    "        # Storing both linear and activation cache\n",
    "\n",
    "        caches.append((linear_cache, activation_cache))\n",
    "        # A is now the current sigmoid of Z\n",
    "    return (\n",
    "        A,\n",
    "        caches,\n",
    "    )  # basically just returns the new layer of neuron values and a cache of olds."
   ]
  },
  {
   "cell_type": "code",
   "execution_count": 37,
   "id": "3db00ae9",
   "metadata": {},
   "outputs": [],
   "source": [
    "def cost_function(\n",
    "    A, Y\n",
    "):  # Asesses the difference between what we wanted and what we get from our NN\n",
    "    m = Y.shape[1]\n",
    "\n",
    "    cost = (-1 / m) * (np.dot(np.log(A), Y.T) + np.dot(np.log(1 - A), 1 - Y.T))\n",
    "\n",
    "    return cost  # Takes in the two values and gives us the mean squared error?\n",
    "\n",
    "\n",
    "# TODO: learn more about this cost function and what specifically it does."
   ]
  },
  {
   "cell_type": "code",
   "execution_count": 38,
   "id": "7d855259",
   "metadata": {},
   "outputs": [],
   "source": [
    "def one_layer_backward(dA, cache):\n",
    "    linear_cache, activation_cache = cache\n",
    "\n",
    "    Z = activation_cache\n",
    "    dZ = dA * sigmoid(Z) * (1 - sigmoid(Z))  # The derivative of the sigmoid function\n",
    "\n",
    "    A_prev, W, b = linear_cache\n",
    "    m = A_prev.shape[1]\n",
    "\n",
    "    dW = (1 / m) * np.dot(dZ, A_prev.T)\n",
    "    db = (1 / m) * np.sum(dZ, axis=1, keepdims=True)\n",
    "    dA_prev = np.dot(W.T, dZ)\n",
    "\n",
    "    return dA_prev, dW, db"
   ]
  },
  {
   "cell_type": "code",
   "execution_count": 39,
   "id": "976b8d39",
   "metadata": {},
   "outputs": [],
   "source": [
    "def backprop(AL, Y, caches):\n",
    "    grads = {}\n",
    "    L = len(caches)\n",
    "    m = AL.shape[1]\n",
    "    Y = Y.reshape(AL.shape)\n",
    "\n",
    "    dAL = -(np.divide(Y, AL) - np.divide(1 - Y, 1 - AL))\n",
    "\n",
    "    current_cache = caches[L - 1]\n",
    "    grads[\"dA\" + str(L - 1)], grads[\"dW\" + str(L - 1)], grads[\"db\" + str(L - 1)] = (\n",
    "        one_layer_backward(dAL, current_cache)\n",
    "    )\n",
    "\n",
    "    for l in reversed(range(L - 1)):\n",
    "\n",
    "        current_cache = caches[l]\n",
    "        dA_prev_temp, dW_temp, db_temp = one_layer_backward(\n",
    "            grads[\"dA\" + str(l + 1)], current_cache\n",
    "        )\n",
    "        grads[\"dA\" + str(l)] = dA_prev_temp\n",
    "        grads[\"dW\" + str(l + 1)] = dW_temp\n",
    "        grads[\"db\" + str(l + 1)] = db_temp\n",
    "\n",
    "    return grads"
   ]
  },
  {
   "cell_type": "code",
   "execution_count": 40,
   "id": "b9d06bd7",
   "metadata": {},
   "outputs": [],
   "source": [
    "def update_parameters(parameters, grads, learning_rate):\n",
    "    L = len(parameters) // 2\n",
    "\n",
    "    for l in range(L):\n",
    "        parameters[\"W\" + str(l + 1)] = (\n",
    "            parameters[\"W\" + str(l + 1)] - learning_rate * grads[\"W\" + str(l + 1)]\n",
    "        )\n",
    "        parameters[\"b\" + str(l + 1)] = (\n",
    "            parameters[\"b\" + str(l + 1)] - learning_rate * grads[\"b\" + str(l + 1)]\n",
    "        )\n",
    "\n",
    "    return parameters"
   ]
  },
  {
   "cell_type": "code",
   "execution_count": 41,
   "id": "14b0b47a",
   "metadata": {},
   "outputs": [],
   "source": [
    "def train(X, Y, layer_dims, epochs, lr):\n",
    "    params = init_params(layer_dims)\n",
    "    cost_history = []\n",
    "\n",
    "    for i in range(epochs):\n",
    "        Y_hat, caches = forward_prop(X, params)\n",
    "        cost = cost_function(Y_hat, Y)\n",
    "        cost_history.append(cost)\n",
    "        grads = backprop(Y_hat, Y, caches)\n",
    "\n",
    "        params = update_parameters(params, grads, lr)\n",
    "\n",
    "    return params, cost_history"
   ]
  }
 ],
 "metadata": {
  "kernelspec": {
   "display_name": ".venv",
   "language": "python",
   "name": "python3"
  },
  "language_info": {
   "codemirror_mode": {
    "name": "ipython",
    "version": 3
   },
   "file_extension": ".py",
   "mimetype": "text/x-python",
   "name": "python",
   "nbconvert_exporter": "python",
   "pygments_lexer": "ipython3",
   "version": "3.12.6"
  }
 },
 "nbformat": 4,
 "nbformat_minor": 5
}
